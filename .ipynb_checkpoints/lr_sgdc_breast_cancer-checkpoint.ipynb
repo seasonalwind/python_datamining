{
 "cells": [
  {
   "cell_type": "code",
   "execution_count": 2,
   "metadata": {
    "collapsed": false
   },
   "outputs": [
    {
     "data": {
      "text/plain": [
       "(683, 11)"
      ]
     },
     "execution_count": 2,
     "metadata": {},
     "output_type": "execute_result"
    }
   ],
   "source": [
    "import pandas as pd\n",
    "import numpy as np\n",
    "\n",
    "# ---load data----\n",
    "column_names = ['Sample code number','Clump Thickness', 'Uniformity of Cell Size','Uniformity of Cell Shape','Marginal Adhesion','Single Epithelial Cell Size','Bare Nuclei','Bland Chromatin','Normal Nucleoli','Mitoses','Class']\n",
    "\n",
    "data = pd.read_csv('https://archive.ics.uci.edu/ml/machine-learning-databases/breast-cancer-wisconsin/breast-cancer-wisconsin.data',names=column_names)\n",
    "\n",
    "data=data.replace(to_replace='?',value=np.nan)\n",
    "data=data.dropna(how='any')\n",
    "data.shape"
   ]
  },
  {
   "cell_type": "code",
   "execution_count": 5,
   "metadata": {
    "collapsed": false
   },
   "outputs": [
    {
     "data": {
      "text/plain": [
       "2    337\n",
       "4    175\n",
       "Name: Class, dtype: int64"
      ]
     },
     "execution_count": 5,
     "metadata": {},
     "output_type": "execute_result"
    }
   ],
   "source": [
    "#----split data-------\n",
    "from sklearn.cross_validation import train_test_split\n",
    "X_train,X_test,y_train,y_test=train_test_split(data[column_names[1:10]],data[column_names[10]],test_size=0.25,random_state=0)\n",
    "y_train.value_counts()"
   ]
  },
  {
   "cell_type": "code",
   "execution_count": 6,
   "metadata": {
    "collapsed": false
   },
   "outputs": [
    {
     "data": {
      "text/plain": [
       "2    107\n",
       "4     64\n",
       "Name: Class, dtype: int64"
      ]
     },
     "execution_count": 6,
     "metadata": {},
     "output_type": "execute_result"
    }
   ],
   "source": [
    "y_test.value_counts()"
   ]
  },
  {
   "cell_type": "code",
   "execution_count": 7,
   "metadata": {
    "collapsed": false
   },
   "outputs": [
    {
     "name": "stdout",
     "output_type": "stream",
     "text": [
      "Accuracy of LR Classifier: 0.947368421053\n",
      "             precision    recall  f1-score   support\n",
      "\n",
      "     Benign       0.95      0.96      0.96       107\n",
      "  Malignant       0.94      0.92      0.93        64\n",
      "\n",
      "avg / total       0.95      0.95      0.95       171\n",
      "\n",
      "==========\n",
      "Accuracy of SGD Classifier: 0.964912280702\n",
      "             precision    recall  f1-score   support\n",
      "\n",
      "     Benign       0.99      0.95      0.97       107\n",
      "  Malignant       0.93      0.98      0.95        64\n",
      "\n",
      "avg / total       0.97      0.96      0.97       171\n",
      "\n"
     ]
    }
   ],
   "source": [
    "from sklearn.preprocessing import StandardScaler\n",
    "from sklearn.linear_model import LogisticRegression\n",
    "from sklearn.linear_model import SGDClassifier\n",
    "\n",
    "#----Standardize features----\n",
    "ss=StandardScaler()\n",
    "X_train=ss.fit_transform(X_train)\n",
    "X_test=ss.transform(X_test)\n",
    "\n",
    "#----Initialize models---\n",
    "lr=LogisticRegression()\n",
    "sgdc=SGDClassifier()\n",
    "# --- train models and make prediction ---\n",
    "lr.fit(X_train,y_train)\n",
    "lr_y_predict=lr.predict(X_test)\n",
    "\n",
    "sgdc.fit(X_train,y_train)\n",
    "sgdc_y_predict=sgdc.predict(X_test)\n",
    "\n",
    "#----- Analyze the results -----\n",
    "from sklearn.metrics import classification_report \n",
    "print 'Accuracy of LR Classifier:',lr.score(X_test,y_test)\n",
    "print classification_report(y_test,lr_y_predict,target_names=['Benign','Malignant'])\n",
    "\n",
    "print '='*10\n",
    "print 'Accuracy of SGD Classifier:',sgdc.score(X_test,y_test)\n",
    "print classification_report(y_test,sgdc_y_predict,target_names=['Benign','Malignant'])\n",
    "\n"
   ]
  },
  {
   "cell_type": "code",
   "execution_count": null,
   "metadata": {
    "collapsed": true
   },
   "outputs": [],
   "source": []
  }
 ],
 "metadata": {
  "kernelspec": {
   "display_name": "Python 2",
   "language": "python",
   "name": "python2"
  },
  "language_info": {
   "codemirror_mode": {
    "name": "ipython",
    "version": 2
   },
   "file_extension": ".py",
   "mimetype": "text/x-python",
   "name": "python",
   "nbconvert_exporter": "python",
   "pygments_lexer": "ipython2",
   "version": "2.7.13"
  }
 },
 "nbformat": 4,
 "nbformat_minor": 2
}
